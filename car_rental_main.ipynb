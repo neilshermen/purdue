{
 "cells": [
  {
   "cell_type": "code",
   "execution_count": null,
   "id": "9532527d-c8af-4f0d-a942-d57d11f754ae",
   "metadata": {},
   "outputs": [],
   "source": [
    "# car_rental_main.ipynb\n",
    "from car_rental import CarRental, Customer\n",
    "\n",
    "def main():\n",
    "    # Create instances for car rental and customer\n",
    "    rental_shop = CarRental(10)  # initial inventory of 10 cars\n",
    "    customer = Customer()\n",
    "\n",
    "    while True:\n",
    "        print(\"\"\"\n",
    "        ===== Car Rental Shop =====\n",
    "        1. Display available cars\n",
    "        2. Rent a car on hourly basis - $5 per hour\n",
    "        3. Rent a car on daily basis - $20 per day\n",
    "        4. Rent a car on weekly basis - $60 per week\n",
    "        5. Return a car\n",
    "        6. Exit\n",
    "        \"\"\")\n",
    "\n",
    "        choice = input(\"Enter choice: \")\n",
    "\n",
    "        if choice == '1':\n",
    "            rental_shop.display_cars()\n",
    "\n",
    "        elif choice == '2':\n",
    "            customer.rental_time = rental_shop.rent_hourly(customer.request_car())\n",
    "            customer.rental_basis = 1  # hourly\n",
    "\n",
    "        elif choice == '3':\n",
    "            customer.rental_time = rental_shop.rent_daily(customer.request_car())\n",
    "            customer.rental_basis = 2  # daily\n",
    "\n",
    "        elif choice == '4':\n",
    "            customer.rental_time = rental_shop.rent_weekly(customer.request_car())\n",
    "            customer.rental_basis = 3  # weekly\n",
    "\n",
    "        elif choice == '5':\n",
    "            customer.return_car()\n",
    "            rental_shop.return_cars(customer.return_car())\n",
    "\n",
    "        elif choice == '6':\n",
    "            break\n",
    "\n",
    "        else:\n",
    "            print(\"Invalid input. Please enter a number between 1 and 6.\")\n",
    "\n",
    "if __name__ == \"__main__\":\n",
    "    main()\n"
   ]
  }
 ],
 "metadata": {
  "kernelspec": {
   "display_name": "Python 3 (ipykernel)",
   "language": "python",
   "name": "python3"
  },
  "language_info": {
   "codemirror_mode": {
    "name": "ipython",
    "version": 3
   },
   "file_extension": ".py",
   "mimetype": "text/x-python",
   "name": "python",
   "nbconvert_exporter": "python",
   "pygments_lexer": "ipython3",
   "version": "3.12.4"
  }
 },
 "nbformat": 4,
 "nbformat_minor": 5
}

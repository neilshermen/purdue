{
 "cells": [
  {
   "cell_type": "code",
   "execution_count": null,
   "id": "77de1919-200b-46fe-9ee9-d838f0f1f771",
   "metadata": {},
   "outputs": [
    {
     "name": "stdout",
     "output_type": "stream",
     "text": [
      "\n",
      "===== Online Car Rental Platform =====\n",
      "1. Display available cars\n",
      "2. Request a car on hourly basis ($5/hour)\n",
      "3. Request a car on daily basis ($20/day)\n",
      "4. Request a car on weekly basis ($60/week)\n",
      "5. Return a car\n",
      "6. Exit\n"
     ]
    },
    {
     "name": "stdin",
     "output_type": "stream",
     "text": [
      "Enter your choice:  1\n"
     ]
    },
    {
     "name": "stdout",
     "output_type": "stream",
     "text": [
      "Available cars: 100\n",
      "\n",
      "===== Online Car Rental Platform =====\n",
      "1. Display available cars\n",
      "2. Request a car on hourly basis ($5/hour)\n",
      "3. Request a car on daily basis ($20/day)\n",
      "4. Request a car on weekly basis ($60/week)\n",
      "5. Return a car\n",
      "6. Exit\n"
     ]
    },
    {
     "name": "stdin",
     "output_type": "stream",
     "text": [
      "Enter your choice:  20\n"
     ]
    },
    {
     "name": "stdout",
     "output_type": "stream",
     "text": [
      "Invalid choice. Please select from the options.\n",
      "\n",
      "===== Online Car Rental Platform =====\n",
      "1. Display available cars\n",
      "2. Request a car on hourly basis ($5/hour)\n",
      "3. Request a car on daily basis ($20/day)\n",
      "4. Request a car on weekly basis ($60/week)\n",
      "5. Return a car\n",
      "6. Exit\n"
     ]
    },
    {
     "name": "stdin",
     "output_type": "stream",
     "text": [
      "Enter your choice:  2\n",
      "How many cars would you like to rent?  20\n"
     ]
    },
    {
     "name": "stdout",
     "output_type": "stream",
     "text": [
      "Rented 20 car(s) on an hourly basis at 2024-08-28 19:11:24.411040.\n",
      "\n",
      "===== Online Car Rental Platform =====\n",
      "1. Display available cars\n",
      "2. Request a car on hourly basis ($5/hour)\n",
      "3. Request a car on daily basis ($20/day)\n",
      "4. Request a car on weekly basis ($60/week)\n",
      "5. Return a car\n",
      "6. Exit\n"
     ]
    },
    {
     "name": "stdin",
     "output_type": "stream",
     "text": [
      "Enter your choice:  3\n",
      "How many cars would you like to rent?  100\n"
     ]
    },
    {
     "name": "stdout",
     "output_type": "stream",
     "text": [
      "Requested cars are more than available stock: 80\n",
      "\n",
      "===== Online Car Rental Platform =====\n",
      "1. Display available cars\n",
      "2. Request a car on hourly basis ($5/hour)\n",
      "3. Request a car on daily basis ($20/day)\n",
      "4. Request a car on weekly basis ($60/week)\n",
      "5. Return a car\n",
      "6. Exit\n"
     ]
    },
    {
     "name": "stdin",
     "output_type": "stream",
     "text": [
      "Enter your choice:  3\n",
      "How many cars would you like to rent?  80\n"
     ]
    },
    {
     "name": "stdout",
     "output_type": "stream",
     "text": [
      "Rented 80 car(s) on a daily basis at 2024-08-28 19:11:46.307968.\n",
      "\n",
      "===== Online Car Rental Platform =====\n",
      "1. Display available cars\n",
      "2. Request a car on hourly basis ($5/hour)\n",
      "3. Request a car on daily basis ($20/day)\n",
      "4. Request a car on weekly basis ($60/week)\n",
      "5. Return a car\n",
      "6. Exit\n"
     ]
    },
    {
     "name": "stdin",
     "output_type": "stream",
     "text": [
      "Enter your choice:  1\n"
     ]
    },
    {
     "name": "stdout",
     "output_type": "stream",
     "text": [
      "Available cars: 0\n",
      "\n",
      "===== Online Car Rental Platform =====\n",
      "1. Display available cars\n",
      "2. Request a car on hourly basis ($5/hour)\n",
      "3. Request a car on daily basis ($20/day)\n",
      "4. Request a car on weekly basis ($60/week)\n",
      "5. Return a car\n",
      "6. Exit\n"
     ]
    },
    {
     "name": "stdin",
     "output_type": "stream",
     "text": [
      "Enter your choice:  5\n"
     ]
    },
    {
     "name": "stdout",
     "output_type": "stream",
     "text": [
      "Returning 80 car(s).\n",
      "Total bill: $0\n",
      "\n",
      "===== Online Car Rental Platform =====\n",
      "1. Display available cars\n",
      "2. Request a car on hourly basis ($5/hour)\n",
      "3. Request a car on daily basis ($20/day)\n",
      "4. Request a car on weekly basis ($60/week)\n",
      "5. Return a car\n",
      "6. Exit\n"
     ]
    },
    {
     "name": "stdin",
     "output_type": "stream",
     "text": [
      "Enter your choice:  1\n"
     ]
    },
    {
     "name": "stdout",
     "output_type": "stream",
     "text": [
      "Available cars: 80\n",
      "\n",
      "===== Online Car Rental Platform =====\n",
      "1. Display available cars\n",
      "2. Request a car on hourly basis ($5/hour)\n",
      "3. Request a car on daily basis ($20/day)\n",
      "4. Request a car on weekly basis ($60/week)\n",
      "5. Return a car\n",
      "6. Exit\n"
     ]
    },
    {
     "name": "stdin",
     "output_type": "stream",
     "text": [
      "Enter your choice:  5\n"
     ]
    },
    {
     "name": "stdout",
     "output_type": "stream",
     "text": [
      "You did not rent a car.\n",
      "\n",
      "===== Online Car Rental Platform =====\n",
      "1. Display available cars\n",
      "2. Request a car on hourly basis ($5/hour)\n",
      "3. Request a car on daily basis ($20/day)\n",
      "4. Request a car on weekly basis ($60/week)\n",
      "5. Return a car\n",
      "6. Exit\n"
     ]
    },
    {
     "name": "stdin",
     "output_type": "stream",
     "text": [
      "Enter your choice:  1\n"
     ]
    },
    {
     "name": "stdout",
     "output_type": "stream",
     "text": [
      "Available cars: 80\n",
      "\n",
      "===== Online Car Rental Platform =====\n",
      "1. Display available cars\n",
      "2. Request a car on hourly basis ($5/hour)\n",
      "3. Request a car on daily basis ($20/day)\n",
      "4. Request a car on weekly basis ($60/week)\n",
      "5. Return a car\n",
      "6. Exit\n"
     ]
    },
    {
     "name": "stdin",
     "output_type": "stream",
     "text": [
      "Enter your choice:  5\n"
     ]
    },
    {
     "name": "stdout",
     "output_type": "stream",
     "text": [
      "You did not rent a car.\n",
      "\n",
      "===== Online Car Rental Platform =====\n",
      "1. Display available cars\n",
      "2. Request a car on hourly basis ($5/hour)\n",
      "3. Request a car on daily basis ($20/day)\n",
      "4. Request a car on weekly basis ($60/week)\n",
      "5. Return a car\n",
      "6. Exit\n"
     ]
    },
    {
     "name": "stdin",
     "output_type": "stream",
     "text": [
      "Enter your choice:  1\n"
     ]
    },
    {
     "name": "stdout",
     "output_type": "stream",
     "text": [
      "Available cars: 80\n",
      "\n",
      "===== Online Car Rental Platform =====\n",
      "1. Display available cars\n",
      "2. Request a car on hourly basis ($5/hour)\n",
      "3. Request a car on daily basis ($20/day)\n",
      "4. Request a car on weekly basis ($60/week)\n",
      "5. Return a car\n",
      "6. Exit\n"
     ]
    }
   ],
   "source": [
    "# main.ipynb\n",
    "\n",
    "from cars_rental import CarRental, Customer\n",
    "\n",
    "def main():\n",
    "    car_rental = CarRental(100)  # Initialize the car rental system with 100 cars\n",
    "    customer = Customer()\n",
    "\n",
    "    while True:\n",
    "        print(\"\\n===== Online Car Rental Platform =====\")\n",
    "        print(\"1. Display available cars\")\n",
    "        print(\"2. Request a car on hourly basis ($5/hour)\")\n",
    "        print(\"3. Request a car on daily basis ($20/day)\")\n",
    "        print(\"4. Request a car on weekly basis ($60/week)\")\n",
    "        print(\"5. Return a car\")\n",
    "        print(\"6. Exit\")\n",
    "\n",
    "        choice = input(\"Enter your choice: \")\n",
    "\n",
    "        if choice == '1':\n",
    "            car_rental.display_available_cars()\n",
    "\n",
    "        elif choice == '2':\n",
    "            customer.request_car()\n",
    "            car_rental.rent_car_on_hourly_basis(customer.num_of_cars)\n",
    "\n",
    "        elif choice == '3':\n",
    "            customer.request_car()\n",
    "            car_rental.rent_car_on_daily_basis(customer.num_of_cars)\n",
    "\n",
    "        elif choice == '4':\n",
    "            customer.request_car()\n",
    "            car_rental.rent_car_on_weekly_basis(customer.num_of_cars)\n",
    "\n",
    "        elif choice == '5':\n",
    "            customer.num_of_cars = customer.return_car()\n",
    "            car_rental.return_car()\n",
    "\n",
    "        elif choice == '6':\n",
    "            print(\"Thank you for using our service!\")\n",
    "            break\n",
    "\n",
    "        else:\n",
    "            print(\"Invalid choice. Please select from the options.\")\n",
    "\n",
    "if __name__ == \"__main__\":\n",
    "    main()\n"
   ]
  },
  {
   "cell_type": "code",
   "execution_count": null,
   "id": "c4f4809e-30d2-4d0d-826e-f5efd3883b03",
   "metadata": {},
   "outputs": [],
   "source": []
  }
 ],
 "metadata": {
  "kernelspec": {
   "display_name": "Python 3 (ipykernel)",
   "language": "python",
   "name": "python3"
  },
  "language_info": {
   "codemirror_mode": {
    "name": "ipython",
    "version": 3
   },
   "file_extension": ".py",
   "mimetype": "text/x-python",
   "name": "python",
   "nbconvert_exporter": "python",
   "pygments_lexer": "ipython3",
   "version": "3.12.4"
  }
 },
 "nbformat": 4,
 "nbformat_minor": 5
}
